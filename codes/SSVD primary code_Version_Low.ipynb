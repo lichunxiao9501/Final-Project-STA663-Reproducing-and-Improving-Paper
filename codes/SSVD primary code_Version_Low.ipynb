{
 "cells": [
  {
   "cell_type": "code",
   "execution_count": 1,
   "metadata": {},
   "outputs": [],
   "source": [
    "%matplotlib inline"
   ]
  },
  {
   "cell_type": "code",
   "execution_count": 2,
   "metadata": {},
   "outputs": [],
   "source": [
    "import numpy as np\n",
    "import pandas as pd\n",
    "from sparsesvd import sparsesvd \n",
    "from scipy.sparse import csc_matrix\n",
    "import seaborn as sns; sns.set()"
   ]
  },
  {
   "cell_type": "code",
   "execution_count": 3,
   "metadata": {},
   "outputs": [],
   "source": [
    "data = pd.read_csv('data/data.txt', sep=' ', header = None)\n",
    "X = np.array(data.T)"
   ]
  },
  {
   "cell_type": "code",
   "execution_count": 4,
   "metadata": {},
   "outputs": [],
   "source": [
    "def SSVD_primary(X, gamma1 = 2, gamma2 = 2, tol = 1e-4, max_iter = 100):\n",
    "    \"\"\"SSVD for 1 layer\"\"\"\n",
    "    u, s, v = sparsesvd(csc_matrix(X), k=1)\n",
    "    \n",
    "    # initializations\n",
    "    n = X.shape[0]\n",
    "    d = X.shape[1]\n",
    "    u = u.reshape((n,1))\n",
    "    v = v.reshape((d,1))\n",
    "    u_delta = 1\n",
    "    v_delta = 1\n",
    "    niter = 0\n",
    "    SST = np.sum(X**2)\n",
    "    \n",
    "    while((u_delta > tol) or (v_delta > tol)):\n",
    "        niter += 1\n",
    "\n",
    "        # update v\n",
    "        Xu = X.T @ u\n",
    "        w2_inv = np.abs(Xu)**gamma2\n",
    "        sigma_sq = np.abs(SST - sum(Xu**2))/(n*d-d)   #np.trace((X-s*u@v.T) @ (X-s*u@v.T).T)/(n*d-d)\n",
    "\n",
    "        lambda2s = np.unique(np.append(np.abs(Xu*w2_inv), 0))\n",
    "        lambda2s.sort()                                   # possible lambda2/2\n",
    "\n",
    "        # best BIC\n",
    "        BICs = np.ones(lambda2s.shape[0]-1)*np.Inf\n",
    "        for i in range(BICs.shape[0]):\n",
    "            v_temp = np.sign(Xu)*(np.abs(Xu) >= lambda2s[i] / w2_inv)*(np.abs(Xu) - lambda2s[i] / w2_inv)\n",
    "            BICs[i] = np.sum((X-u@v_temp.T)**2)/sigma_sq/(n*d) + np.sum(v_temp!=0)*np.log(n*d)/(n*d)\n",
    "        best = np.argmin(BICs)\n",
    "\n",
    "        lambda2 = lambda2s[best]\n",
    "        v_new = np.sign(Xu)*(np.abs(Xu) >= lambda2 / w2_inv)*(np.abs(Xu) - lambda2 / w2_inv)\n",
    "        v_new = v_new/np.sqrt(np.sum(v_new**2))\n",
    "\n",
    "        v_delta = np.sqrt(np.sum((v-v_new)**2))\n",
    "        v = v_new\n",
    "\n",
    "\n",
    "        # update u\n",
    "        Xv = X @ v\n",
    "        w1_inv = np.abs(Xv)**gamma1\n",
    "        sigma_sq = np.abs(SST - sum(Xv**2))/(n*d-n) \n",
    "\n",
    "        lambda1s = np.unique(np.append(np.abs(Xv*w1_inv), 0))\n",
    "        lambda1s.sort()                                   # possible lambda1/2\n",
    "\n",
    "        # best BIC\n",
    "        BICs = np.ones(lambda1s.shape[0]-1)*np.Inf\n",
    "        for i in range(BICs.shape[0]):\n",
    "            u_temp = np.sign(Xv)*(np.abs(Xv) >= lambda1s[i] / w1_inv)*(np.abs(Xv) - lambda1s[i] / w1_inv)\n",
    "            BICs[i] = np.sum((X-u_temp@v.T)**2)/sigma_sq/(n*d) + np.sum(u_temp!=0)*np.log(n*d)/(n*d)\n",
    "        best = np.argmin(BICs)\n",
    "\n",
    "        lambda1 = lambda1s[best]\n",
    "        u_new = np.sign(Xv)*(np.abs(Xv) >= lambda1 / w1_inv)*(np.abs(Xv) - lambda1 / w1_inv)\n",
    "        u_new = u_new/np.sqrt(np.sum(u_new**2))\n",
    "\n",
    "        u_delta = np.sqrt(np.sum((u-u_new)**2))\n",
    "        u = u_new\n",
    "\n",
    "        # check iterations\n",
    "        if niter > max_iter:\n",
    "            print(\"Fail to converge! Increase the max_iter!\")\n",
    "            break\n",
    "    return(np.ravel(u), s, np.ravel(v), niter)"
   ]
  },
  {
   "cell_type": "code",
   "execution_count": 5,
   "metadata": {},
   "outputs": [
    {
     "name": "stdout",
     "output_type": "stream",
     "text": [
      "CPU times: user 8min 20s, sys: 14min 45s, total: 23min 6s\n",
      "Wall time: 2min 56s\n"
     ]
    }
   ],
   "source": [
    "%%time\n",
    "u, s, v, niter = SSVD_primary(X, gamma1 = 2, gamma2 = 2, tol = 1e-4, max_iter = 100)"
   ]
  },
  {
   "cell_type": "code",
   "execution_count": 6,
   "metadata": {},
   "outputs": [],
   "source": [
    "n = X.shape[0]\n",
    "d = X.shape[1]\n",
    "first = s*u.reshape((n, 1))@v.reshape((1, d))"
   ]
  },
  {
   "cell_type": "code",
   "execution_count": 7,
   "metadata": {},
   "outputs": [
    {
     "data": {
      "image/png": "[encoded data removed]",
      "text/plain": [
       "<Figure size 432x288 with 2 Axes>"
      ]
     },
     "metadata": {},
     "output_type": "display_data"
    }
   ],
   "source": [
    "group1 = range(20)\n",
    "group2 = range(20, 33)\n",
    "group3 = range(33, 50)\n",
    "group4 = range(50, 56)\n",
    "\n",
    "row_idx = np.concatenate((np.argsort(u[group1]), np.argsort(u[group2])+20, np.argsort(u[group3])+33, np.argsort(u[group4])+50))\n",
    "col_nonzero = np.argsort(np.abs(v))[8000:]\n",
    "v_nonzero = v[col_nonzero]\n",
    "first_nonzero = first[:,col_nonzero]\n",
    "col_idx = np.argsort(v_nonzero)\n",
    "\n",
    "ax = sns.heatmap(first_nonzero[np.ix_(row_idx, col_idx)], vmin=-1, vmax=1, cmap = 'bwr')"
   ]
  },
  {
   "cell_type": "code",
   "execution_count": null,
   "metadata": {},
   "outputs": [],
   "source": []
  }
 ],
 "metadata": {
  "kernelspec": {
   "display_name": "Python 3",
   "language": "python",
   "name": "python3"
  },
  "language_info": {
   "codemirror_mode": {
    "name": "ipython",
    "version": 3
   },
   "file_extension": ".py",
   "mimetype": "text/x-python",
   "name": "python",
   "nbconvert_exporter": "python",
   "pygments_lexer": "ipython3",
   "version": "3.6.5"
  }
 },
 "nbformat": 4,
 "nbformat_minor": 2
}
