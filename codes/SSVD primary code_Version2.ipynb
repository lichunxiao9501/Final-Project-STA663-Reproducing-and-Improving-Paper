{
 "cells": [
  {
   "cell_type": "code",
   "execution_count": 1,
   "metadata": {},
   "outputs": [],
   "source": [
    "%matplotlib inline"
   ]
  },
  {
   "cell_type": "code",
   "execution_count": 2,
   "metadata": {},
   "outputs": [],
   "source": [
    "import numpy as np\n",
    "import pandas as pd\n",
    "from sparsesvd import sparsesvd \n",
    "from scipy.sparse import csc_matrix"
   ]
  },
  {
   "cell_type": "code",
   "execution_count": 3,
   "metadata": {},
   "outputs": [],
   "source": [
    "data = pd.read_csv('data/data.txt', sep=' ', header = None)\n",
    "X = np.array(data.T)"
   ]
  },
  {
   "cell_type": "code",
   "execution_count": 9,
   "metadata": {},
   "outputs": [],
   "source": [
    "def argminBIC(lambdas, w_inv_nonzero, cand_nonzero, index, X, sigma_sq, n, d, old, isV):\n",
    "    \"\"\"index for lowest BIC\"\"\"\n",
    "    BICs = np.ones(lambdas.shape[0]-1)*np.Inf\n",
    "    for i in range(BICs.shape[0]):\n",
    "        temp_partial = update(cand_nonzero, lambdas[i])/w_inv_nonzero\n",
    "        if(isV==1):\n",
    "            temp = np.zeros((d,1))\n",
    "            temp[index] = temp_partial\n",
    "            pred = old@temp.T\n",
    "        else:\n",
    "            temp = np.zeros((n,1))\n",
    "            temp[index] = temp_partial\n",
    "            pred = temp@old.T\n",
    "        BICs[i] = np.sum((X-pred)**2)/sigma_sq + np.sum(temp_partial!=0)*np.log(n*d)\n",
    "    best = np.argmin(BICs)\n",
    "    return best"
   ]
  },
  {
   "cell_type": "code",
   "execution_count": 4,
   "metadata": {},
   "outputs": [],
   "source": [
    "def update(candidate, penalty):\n",
    "    \"\"\"update v or u for SSVD\"\"\"\n",
    "    return np.sign(candidate)*(np.abs(candidate)>= penalty)*(np.abs(candidate) - penalty)"
   ]
  },
  {
   "cell_type": "code",
   "execution_count": 22,
   "metadata": {},
   "outputs": [],
   "source": [
    "def SSVD_primary(X, gamma1 = 2, gamma2 = 2, tol = 1e-4, max_iter = 100):\n",
    "    \"\"\"SSVD for 1 layer\"\"\"\n",
    "    u, s, v = sparsesvd(csc_matrix(X), k=1)\n",
    "\n",
    "    # initiations\n",
    "    n = X.shape[0]\n",
    "    d = X.shape[1]\n",
    "    u = u.reshape((n,1))\n",
    "    v = v.reshape((d,1))\n",
    "    u_delta = 1\n",
    "    v_delta = 1\n",
    "    niter = 0\n",
    "    SST = np.sum(X**2)\n",
    "    \n",
    "    while((u_delta > tol) or (v_delta > tol)):\n",
    "        niter += 1\n",
    "\n",
    "        ## Update v\n",
    "        Xu = X.T @ u\n",
    "        w2_inv = np.abs(Xu)**gamma2\n",
    "        sigma_sq = np.abs(SST - sum(Xu**2))/(n*d-d)   #np.trace((X-s*u@v.T) @ (X-s*u@v.T).T)/(n*d-d)\n",
    "\n",
    "        # prepare lambda and candicates\n",
    "        Xu_w = Xu*w2_inv                                  # X.T @ u/w\n",
    "        lambda2s = np.unique(np.append(np.abs(Xu_w), 0))\n",
    "        lambda2s.sort()                                   # possible lambda2/2\n",
    "        index = np.where(w2_inv>1e-8)\n",
    "        w2_inv_nonzero = w2_inv[index]\n",
    "        Xu_w_nonzero = Xu_w[index]\n",
    "\n",
    "        # best lambda and new v\n",
    "        best = argminBIC(lambda2s, w2_inv_nonzero, Xu_w_nonzero, index, X, sigma_sq, n, d, old=u, isV=1)\n",
    "        lambda2 = lambda2s[best]\n",
    "        v_new_partial = update(Xu_w_nonzero, lambda2)/w2_inv_nonzero\n",
    "        v_new = np.zeros((d,1))\n",
    "        v_new[index] = v_new_partial\n",
    "        v_new = v_new/np.sqrt(np.sum(v_new**2))\n",
    "\n",
    "        # update v\n",
    "        v_delta = np.sqrt(np.sum((v-v_new)**2))\n",
    "        v = v_new\n",
    "\n",
    "        ## Update u\n",
    "        Xv = X @ v\n",
    "        w1_inv = np.abs(Xv)**gamma1\n",
    "        sigma_sq = np.abs(SST - sum(Xu**2))/(n*d-n)   #np.trace((X-s*u@v.T) @ (X-s*u@v.T).T)/(n*d-d)\n",
    "\n",
    "        # prepare lambda and candicates\n",
    "        Xv_w = Xv*w1_inv                                  # X.T @ u/w\n",
    "        lambda1s = np.unique(np.append(np.abs(Xv_w), 0))\n",
    "        lambda1s.sort()                                   # possible lambda2/2\n",
    "        index = np.where(w1_inv>1e-8)\n",
    "        w1_inv_nonzero = w1_inv[index]\n",
    "        Xv_w_nonzero = Xv_w[index]\n",
    "\n",
    "        # best lambda and new u\n",
    "        best = argminBIC(lambda1s, w1_inv_nonzero, Xv_w_nonzero, index, X, sigma_sq, n, d, old=v, isV=0)\n",
    "        lambda1 = lambda1s[best]\n",
    "        u_new_partial = update(Xv_w_nonzero, lambda1)/w1_inv_nonzero\n",
    "        u_new = np.zeros((n,1))\n",
    "        u_new[index] = u_new_partial\n",
    "        u_new = u_new/np.sqrt(np.sum(u_new**2))\n",
    "\n",
    "        # update u\n",
    "        u_delta = np.sqrt(np.sum((u-u_new)**2))\n",
    "        u = u_new\n",
    "        \n",
    "        # check iteration\n",
    "        if(niter > max_iter):\n",
    "            print(\"Fail to converge\")\n",
    "        \n",
    "    return(u, v, niter)"
   ]
  },
  {
   "cell_type": "code",
   "execution_count": 23,
   "metadata": {},
   "outputs": [],
   "source": [
    "result = SSVD_primary(X)"
   ]
  },
  {
   "cell_type": "code",
   "execution_count": 30,
   "metadata": {},
   "outputs": [
    {
     "data": {
      "text/plain": [
       "6"
      ]
     },
     "execution_count": 30,
     "metadata": {},
     "output_type": "execute_result"
    }
   ],
   "source": [
    "result[2]"
   ]
  },
  {
   "cell_type": "code",
   "execution_count": null,
   "metadata": {},
   "outputs": [],
   "source": []
  }
 ],
 "metadata": {
  "kernelspec": {
   "display_name": "Python 3",
   "language": "python",
   "name": "python3"
  },
  "language_info": {
   "codemirror_mode": {
    "name": "ipython",
    "version": 3
   },
   "file_extension": ".py",
   "mimetype": "text/x-python",
   "name": "python",
   "nbconvert_exporter": "python",
   "pygments_lexer": "ipython3",
   "version": "3.6.5"
  }
 },
 "nbformat": 4,
 "nbformat_minor": 2
}
