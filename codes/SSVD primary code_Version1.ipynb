{
 "cells": [
  {
   "cell_type": "code",
   "execution_count": 1,
   "metadata": {},
   "outputs": [],
   "source": [
    "%matplotlib inline"
   ]
  },
  {
   "cell_type": "code",
   "execution_count": 5,
   "metadata": {},
   "outputs": [],
   "source": [
    "import numpy as np\n",
    "import pandas as pd\n",
    "from sparsesvd import sparsesvd \n",
    "from scipy.sparse import csc_matrix"
   ]
  },
  {
   "cell_type": "code",
   "execution_count": 189,
   "metadata": {},
   "outputs": [],
   "source": [
    "data = pd.read_csv('data/data.txt', sep=' ', header = None)\n",
    "X = np.array(data.T)\n",
    "gamma1 = gamma2 = 2\n",
    "u, s, v = sparsesvd(csc_matrix(X), k=1)\n",
    "\n",
    "# initiations\n",
    "n = X.shape[0]\n",
    "d = X.shape[1]\n",
    "u = u.reshape((n,1))\n",
    "v = v.reshape((d,1))\n",
    "u_delta = 1\n",
    "v_delta = 1\n",
    "iter = 0\n",
    "SST = np.sum(X**2)"
   ]
  },
  {
   "cell_type": "code",
   "execution_count": 190,
   "metadata": {},
   "outputs": [],
   "source": [
    "#while((u_delta > tol) or (v_delta > tol)):\n",
    "for j in np.zeros(1):\n",
    "    iter += 1\n",
    "    \n",
    "    ## update v\n",
    "    Xu = X.T @ u\n",
    "    w2_inv = np.abs(Xu)**gamma2\n",
    "    sigma_sq = np.abs(SST - sum(Xu**2))/(n*d-d)   #np.trace((X-s*u@v.T) @ (X-s*u@v.T).T)/(n*d-d)\n",
    "    \n",
    "    Xu_w = Xu*w2_inv                                  # X.T @ u/w\n",
    "    lambda2s = np.unique(np.append(np.abs(Xu_w), 0))\n",
    "    lambda2s.sort()                                   # possible lambda2/2\n",
    "    BICs = np.ones(labmda2s.shape[0]-1)*np.Inf\n",
    "    \n",
    "    index = np.where(w2_inv>1e-8)\n",
    "    w2_inv_nonzero = w2_inv[index]\n",
    "    Xu_w_nonzero = Xu_w[index]\n",
    "    for i in range(BICs.shape[0]):\n",
    "        v_new_partial = update(Xu_w_nonzero, lambda2s[i])/w2_inv_nonzero\n",
    "        v_new = np.zeros((d,1))\n",
    "        v_new[index] = v_new_partial\n",
    "        BICs[i] = np.sum((X-u@v_new.T)**2)/sigma_sq + np.sum(v_new_partial!=0)*np.log(n*d)\n",
    "    \n",
    "    best = np.argmin(BICs)\n",
    "    lambda2 = lambda2s[best]\n",
    "    v_new_partial = update(Xu_w_nonzero, lambda2)/w2_inv_nonzero\n",
    "    v_new = np.zeros((d,1))\n",
    "    v_new[index] = v_new_partial\n",
    "    \n",
    "    v_delta = np.sqrt(np.sum((v-v_new)**2))\n",
    "    v = v_new\n",
    "    \n",
    "    \n",
    "    ## update u\n",
    "    "
   ]
  },
  {
   "cell_type": "code",
   "execution_count": 192,
   "metadata": {},
   "outputs": [
    {
     "data": {
      "text/plain": [
       "189.13302542673165"
      ]
     },
     "execution_count": 192,
     "metadata": {},
     "output_type": "execute_result"
    }
   ],
   "source": [
    "#while((u_delta > tol) or (v_delta > tol)):\n",
    "for j in np.zeros(1):\n",
    "    iter += 1\n",
    "    \n",
    "    ## update v\n",
    "    Xu = X.T @ u\n",
    "    w2_inv = np.abs(Xu)**gamma2\n",
    "    sigma_sq = np.abs(SST - sum(Xu**2))/(n*d-d)   #np.trace((X-s*u@v.T) @ (X-s*u@v.T).T)/(n*d-d)\n",
    "    \n",
    "    Xu_w = Xu*w2_inv                                  # X.T @ u/w\n",
    "    lambda2s = np.unique(np.append(np.abs(Xu_w), 0))\n",
    "    lambda2s.sort()                                   # possible lambda2/2\n",
    "    index = np.where(w2_inv>1e-8)\n",
    "\n",
    "    best = argminBIC(lambda2s, w2_inv, Xu_w, index, X, u, v, sigma_sq, n, d)\n",
    "    lambda2 = lambda2s[best]\n",
    "    v_new_partial = update(Xu_w_nonzero, lambda2)/w2_inv_nonzero\n",
    "    v_new = np.zeros((d,1))\n",
    "    v_new[index] = v_new_partial\n",
    "    \n",
    "    v_delta = np.sqrt(np.sum((v-v_new)**2))\n",
    "    v = v_new\n",
    "    \n",
    "    \n",
    "    ## update u\n",
    "    "
   ]
  },
  {
   "cell_type": "code",
   "execution_count": 196,
   "metadata": {},
   "outputs": [
    {
     "data": {
      "text/plain": [
       "9434"
      ]
     },
     "execution_count": 196,
     "metadata": {},
     "output_type": "execute_result"
    }
   ],
   "source": [
    "best"
   ]
  },
  {
   "cell_type": "code",
   "execution_count": 193,
   "metadata": {},
   "outputs": [],
   "source": [
    "def argminBIC(lambdas, w_inv, candidate, index, X, u, v, sigma_sq, n, d):\n",
    "    \"\"\"index for lowest BIC\"\"\"\n",
    "    BICs = np.ones(lambdas.shape[0]-1)*np.Inf\n",
    "    w_inv_nonzero = w_inv[index]\n",
    "    cand_nonzero = candidate[index]\n",
    "    for i in range(BICs.shape[0]):\n",
    "        v_new_partial = update(cand_nonzero, lambdas[i])/w_inv_nonzero\n",
    "        v_new = np.zeros((d,1))\n",
    "        v_new[index] = v_new_partial\n",
    "        BICs[i] = np.sum((X-u@v_new.T)**2)/sigma_sq + np.sum(v_new_partial!=0)*np.log(n*d)\n",
    "    best = np.argmin(BICs)\n",
    "    return best"
   ]
  },
  {
   "cell_type": "code",
   "execution_count": 144,
   "metadata": {},
   "outputs": [],
   "source": [
    "def update(candidate, penalty):\n",
    "    \"\"\"update v or u for SSVD\"\"\"\n",
    "    return np.sign(candidate)*(np.abs(candidate)>= penalty)*(np.abs(candidate) - penalty)"
   ]
  },
  {
   "cell_type": "code",
   "execution_count": null,
   "metadata": {},
   "outputs": [],
   "source": [
    "def SSVD_primary(X, gamma1 = 2, gamma1 = 2, tol = 1e-4, max_iter = 100):\n",
    "    \"\"\"SSVD for 1 layer\"\"\"\n",
    "    u, s, v = sparsesvd(csc_matrix(X), k=1)\n",
    "    n = X.shape[0]\n",
    "    d = X.shape[1]"
   ]
  }
 ],
 "metadata": {
  "kernelspec": {
   "display_name": "Python 3",
   "language": "python",
   "name": "python3"
  },
  "language_info": {
   "codemirror_mode": {
    "name": "ipython",
    "version": 3
   },
   "file_extension": ".py",
   "mimetype": "text/x-python",
   "name": "python",
   "nbconvert_exporter": "python",
   "pygments_lexer": "ipython3",
   "version": "3.6.5"
  }
 },
 "nbformat": 4,
 "nbformat_minor": 2
}
